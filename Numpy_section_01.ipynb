{
  "nbformat": 4,
  "nbformat_minor": 0,
  "metadata": {
    "colab": {
      "name": "Numpy_section_01.ipynb",
      "provenance": [],
      "collapsed_sections": [
        "ZsvZBf5mzRaq",
        "qp7wSQIwza36",
        "MqHAH3d5_u1q"
      ],
      "include_colab_link": true
    },
    "kernelspec": {
      "name": "python3",
      "display_name": "Python 3"
    }
  },
  "cells": [
    {
      "cell_type": "markdown",
      "metadata": {
        "id": "view-in-github",
        "colab_type": "text"
      },
      "source": [
        "<a href=\"https://colab.research.google.com/github/mcapuccini/lazyprogrammer_courses/blob/master/Numpy_section_01.ipynb\" target=\"_parent\"><img src=\"https://colab.research.google.com/assets/colab-badge.svg\" alt=\"Open In Colab\"/></a>"
      ]
    },
    {
      "cell_type": "markdown",
      "metadata": {
        "id": "ZsvZBf5mzRaq",
        "colab_type": "text"
      },
      "source": [
        "### Lists vs. Arrays"
      ]
    },
    {
      "cell_type": "code",
      "metadata": {
        "id": "FwzfutdXuLZD",
        "colab_type": "code",
        "colab": {}
      },
      "source": [
        "# Create a list in Python\n",
        "L = [1,2,3]\n",
        "\n",
        "# Create an array in Numpy\n",
        "import numpy as np\n",
        "A = np.array([1,2,3])"
      ],
      "execution_count": 0,
      "outputs": []
    },
    {
      "cell_type": "code",
      "metadata": {
        "id": "WS96VOU1v-JJ",
        "colab_type": "code",
        "colab": {
          "base_uri": "https://localhost:8080/",
          "height": 119
        },
        "outputId": "40dc2c87-60e3-45d7-8242-afae68a154bc"
      },
      "source": [
        "# Looping the list\n",
        "for e in L:\n",
        "    print(e)\n",
        "\n",
        "# Looping the array\n",
        "for e in A:\n",
        "    print(e)"
      ],
      "execution_count": 6,
      "outputs": [
        {
          "output_type": "stream",
          "text": [
            "1\n",
            "2\n",
            "3\n",
            "1\n",
            "2\n",
            "3\n"
          ],
          "name": "stdout"
        }
      ]
    },
    {
      "cell_type": "code",
      "metadata": {
        "id": "w3L71Rmww4Ku",
        "colab_type": "code",
        "colab": {
          "base_uri": "https://localhost:8080/",
          "height": 34
        },
        "outputId": "766e3303-df8e-457c-dbab-20d78ec184cd"
      },
      "source": [
        "# + sing in Python concatenates 2 lists\n",
        "L + L"
      ],
      "execution_count": 7,
      "outputs": [
        {
          "output_type": "execute_result",
          "data": {
            "text/plain": [
              "[1, 2, 3, 1, 2, 3]"
            ]
          },
          "metadata": {
            "tags": []
          },
          "execution_count": 7
        }
      ]
    },
    {
      "cell_type": "code",
      "metadata": {
        "id": "AyKVVcIWx411",
        "colab_type": "code",
        "colab": {
          "base_uri": "https://localhost:8080/",
          "height": 34
        },
        "outputId": "d8feb33d-48f5-40c3-a85c-da27208ccd48"
      },
      "source": [
        "# + sing in Numpy sums 2 vectors (vecor/matrix addition)\n",
        "A + A"
      ],
      "execution_count": 8,
      "outputs": [
        {
          "output_type": "execute_result",
          "data": {
            "text/plain": [
              "array([2, 4, 6])"
            ]
          },
          "metadata": {
            "tags": []
          },
          "execution_count": 8
        }
      ]
    },
    {
      "cell_type": "code",
      "metadata": {
        "id": "opzDxrXvyD35",
        "colab_type": "code",
        "colab": {
          "base_uri": "https://localhost:8080/",
          "height": 34
        },
        "outputId": "19a3eb78-411d-43e8-e4a8-f5b8c98dc06d"
      },
      "source": [
        "# * sign has similar story...\n",
        "2*L"
      ],
      "execution_count": 10,
      "outputs": [
        {
          "output_type": "execute_result",
          "data": {
            "text/plain": [
              "[1, 2, 3, 1, 2, 3]"
            ]
          },
          "metadata": {
            "tags": []
          },
          "execution_count": 10
        }
      ]
    },
    {
      "cell_type": "code",
      "metadata": {
        "id": "gvxgIws9ydKi",
        "colab_type": "code",
        "colab": {
          "base_uri": "https://localhost:8080/",
          "height": 34
        },
        "outputId": "48b016bb-ba8f-46a6-86b6-3b091b2f4a8a"
      },
      "source": [
        "2*A # element-wise multiplication"
      ],
      "execution_count": 11,
      "outputs": [
        {
          "output_type": "execute_result",
          "data": {
            "text/plain": [
              "array([2, 4, 6])"
            ]
          },
          "metadata": {
            "tags": []
          },
          "execution_count": 11
        }
      ]
    },
    {
      "cell_type": "code",
      "metadata": {
        "id": "PPhTp29zyhMx",
        "colab_type": "code",
        "colab": {
          "base_uri": "https://localhost:8080/",
          "height": 34
        },
        "outputId": "09e4588e-3440-4e71-a5e8-d85331052f61"
      },
      "source": [
        "# a bunch of element-wise operations in numpy\n",
        "A**2"
      ],
      "execution_count": 12,
      "outputs": [
        {
          "output_type": "execute_result",
          "data": {
            "text/plain": [
              "array([1, 4, 9])"
            ]
          },
          "metadata": {
            "tags": []
          },
          "execution_count": 12
        }
      ]
    },
    {
      "cell_type": "code",
      "metadata": {
        "id": "HQpnYYhjzC3m",
        "colab_type": "code",
        "colab": {
          "base_uri": "https://localhost:8080/",
          "height": 34
        },
        "outputId": "623d6120-74ec-4a64-a3fd-e323af6a679f"
      },
      "source": [
        "np.sqrt(A)"
      ],
      "execution_count": 13,
      "outputs": [
        {
          "output_type": "execute_result",
          "data": {
            "text/plain": [
              "array([1.        , 1.41421356, 1.73205081])"
            ]
          },
          "metadata": {
            "tags": []
          },
          "execution_count": 13
        }
      ]
    },
    {
      "cell_type": "code",
      "metadata": {
        "id": "gAZXvJnYzGNe",
        "colab_type": "code",
        "colab": {
          "base_uri": "https://localhost:8080/",
          "height": 34
        },
        "outputId": "bb69efac-f888-46e1-b8d6-1ad0e583fe66"
      },
      "source": [
        "np.log(A)"
      ],
      "execution_count": 14,
      "outputs": [
        {
          "output_type": "execute_result",
          "data": {
            "text/plain": [
              "array([0.        , 0.69314718, 1.09861229])"
            ]
          },
          "metadata": {
            "tags": []
          },
          "execution_count": 14
        }
      ]
    },
    {
      "cell_type": "code",
      "metadata": {
        "id": "W4lEldKKzIWO",
        "colab_type": "code",
        "colab": {
          "base_uri": "https://localhost:8080/",
          "height": 34
        },
        "outputId": "7b5e0f3a-b829-45e7-82c7-ad3232b745d5"
      },
      "source": [
        "np.exp(A)"
      ],
      "execution_count": 15,
      "outputs": [
        {
          "output_type": "execute_result",
          "data": {
            "text/plain": [
              "array([ 2.71828183,  7.3890561 , 20.08553692])"
            ]
          },
          "metadata": {
            "tags": []
          },
          "execution_count": 15
        }
      ]
    },
    {
      "cell_type": "markdown",
      "metadata": {
        "id": "qp7wSQIwza36",
        "colab_type": "text"
      },
      "source": [
        "### Dot product 1: For loop vs. cosine method vs. dot function\n"
      ]
    },
    {
      "cell_type": "code",
      "metadata": {
        "id": "g3iVIKNLzKMv",
        "colab_type": "code",
        "colab": {
          "base_uri": "https://localhost:8080/",
          "height": 34
        },
        "outputId": "7cffab97-f61e-44b2-8d50-f74512d7fbf8"
      },
      "source": [
        "# Dot product: loop\n",
        "a = np.array([1,2])\n",
        "b = np.array([2,1])\n",
        "\n",
        "dot = 0\n",
        "for e, f in zip(a,b):\n",
        "  dot += e*f\n",
        "dot"
      ],
      "execution_count": 18,
      "outputs": [
        {
          "output_type": "execute_result",
          "data": {
            "text/plain": [
              "4"
            ]
          },
          "metadata": {
            "tags": []
          },
          "execution_count": 18
        }
      ]
    },
    {
      "cell_type": "code",
      "metadata": {
        "id": "YTpFpSSX7RQr",
        "colab_type": "code",
        "colab": {
          "base_uri": "https://localhost:8080/",
          "height": 34
        },
        "outputId": "25553ed7-0553-4322-a309-d419a045a981"
      },
      "source": [
        "# Dot product: elemeny-wise (1)\n",
        "np.sum(a*b)"
      ],
      "execution_count": 19,
      "outputs": [
        {
          "output_type": "execute_result",
          "data": {
            "text/plain": [
              "4"
            ]
          },
          "metadata": {
            "tags": []
          },
          "execution_count": 19
        }
      ]
    },
    {
      "cell_type": "code",
      "metadata": {
        "id": "Pi_OJ_-e7SC2",
        "colab_type": "code",
        "colab": {
          "base_uri": "https://localhost:8080/",
          "height": 34
        },
        "outputId": "d6007b53-4aab-4d47-fcc6-989f199864e9"
      },
      "source": [
        "# Dot product 1: elemeny-wise (2)\n",
        "(a*b).sum()"
      ],
      "execution_count": 20,
      "outputs": [
        {
          "output_type": "execute_result",
          "data": {
            "text/plain": [
              "4"
            ]
          },
          "metadata": {
            "tags": []
          },
          "execution_count": 20
        }
      ]
    },
    {
      "cell_type": "code",
      "metadata": {
        "id": "-OKzPnMT73iB",
        "colab_type": "code",
        "colab": {
          "base_uri": "https://localhost:8080/",
          "height": 34
        },
        "outputId": "7ec60394-d024-4c19-e1ae-1fdc968068c7"
      },
      "source": [
        "# Dot product: dot method\n",
        "np.dot(a,b)"
      ],
      "execution_count": 24,
      "outputs": [
        {
          "output_type": "execute_result",
          "data": {
            "text/plain": [
              "4"
            ]
          },
          "metadata": {
            "tags": []
          },
          "execution_count": 24
        }
      ]
    },
    {
      "cell_type": "code",
      "metadata": {
        "id": "5vA6XpMK79R0",
        "colab_type": "code",
        "colab": {
          "base_uri": "https://localhost:8080/",
          "height": 34
        },
        "outputId": "30a3e918-2302-4d16-95ad-23875a34f3fd"
      },
      "source": [
        "a.dot(b)"
      ],
      "execution_count": 22,
      "outputs": [
        {
          "output_type": "execute_result",
          "data": {
            "text/plain": [
              "4"
            ]
          },
          "metadata": {
            "tags": []
          },
          "execution_count": 22
        }
      ]
    },
    {
      "cell_type": "code",
      "metadata": {
        "id": "-pMEn_UV8Fhf",
        "colab_type": "code",
        "colab": {
          "base_uri": "https://localhost:8080/",
          "height": 34
        },
        "outputId": "713e2f1a-19aa-4193-b764-99721f092717"
      },
      "source": [
        "b.dot(a)"
      ],
      "execution_count": 23,
      "outputs": [
        {
          "output_type": "execute_result",
          "data": {
            "text/plain": [
              "4"
            ]
          },
          "metadata": {
            "tags": []
          },
          "execution_count": 23
        }
      ]
    },
    {
      "cell_type": "code",
      "metadata": {
        "id": "0n51EPoI8Gru",
        "colab_type": "code",
        "colab": {
          "base_uri": "https://localhost:8080/",
          "height": 34
        },
        "outputId": "6584229d-1a26-49a1-f68d-c5005e4ecda4"
      },
      "source": [
        "# Compute the angle\n",
        "# Compute magnitude\n",
        "amag = np.sqrt((a**2).sum())\n",
        "amag"
      ],
      "execution_count": 29,
      "outputs": [
        {
          "output_type": "execute_result",
          "data": {
            "text/plain": [
              "2.23606797749979"
            ]
          },
          "metadata": {
            "tags": []
          },
          "execution_count": 29
        }
      ]
    },
    {
      "cell_type": "code",
      "metadata": {
        "id": "TpETc_-g8r-A",
        "colab_type": "code",
        "colab": {
          "base_uri": "https://localhost:8080/",
          "height": 34
        },
        "outputId": "27e920c0-39c9-4a7a-e81e-5946e652614b"
      },
      "source": [
        "bmag = np.linalg.norm(b) # using linalg\n",
        "bmag"
      ],
      "execution_count": 32,
      "outputs": [
        {
          "output_type": "execute_result",
          "data": {
            "text/plain": [
              "2.23606797749979"
            ]
          },
          "metadata": {
            "tags": []
          },
          "execution_count": 32
        }
      ]
    },
    {
      "cell_type": "code",
      "metadata": {
        "id": "fOZn2PdR85Xt",
        "colab_type": "code",
        "colab": {
          "base_uri": "https://localhost:8080/",
          "height": 34
        },
        "outputId": "29eef97d-17e4-4242-986f-9d54c1b3ad40"
      },
      "source": [
        "# Compute cosine of the angle\n",
        "cosangle = a.dot(b) / (amag * bmag)\n",
        "cosangle"
      ],
      "execution_count": 35,
      "outputs": [
        {
          "output_type": "execute_result",
          "data": {
            "text/plain": [
              "0.7999999999999998"
            ]
          },
          "metadata": {
            "tags": []
          },
          "execution_count": 35
        }
      ]
    },
    {
      "cell_type": "code",
      "metadata": {
        "id": "L70dPtQn9OZ3",
        "colab_type": "code",
        "colab": {
          "base_uri": "https://localhost:8080/",
          "height": 34
        },
        "outputId": "501ec2ea-02d6-410b-a21e-a7ed30be536e"
      },
      "source": [
        "np.arccos(cosangle) # printed in rad"
      ],
      "execution_count": 36,
      "outputs": [
        {
          "output_type": "execute_result",
          "data": {
            "text/plain": [
              "0.6435011087932847"
            ]
          },
          "metadata": {
            "tags": []
          },
          "execution_count": 36
        }
      ]
    },
    {
      "cell_type": "code",
      "metadata": {
        "id": "wkSlWcvx9nLk",
        "colab_type": "code",
        "colab": {
          "base_uri": "https://localhost:8080/",
          "height": 34
        },
        "outputId": "1cfccb55-d397-4b7f-f5be-2acc6a640dbb"
      },
      "source": [
        "# Speed comparison: Dot product in Python vs Numpy\n",
        "def python_dot_prod(a, b):\n",
        "  dot = 0\n",
        "  for e, f in zip(a,b):\n",
        "    dot += e*f\n",
        "  dot\n",
        "\n",
        "a = np.random.randn(1000)\n",
        "b = np.random.randn(1000)\n",
        "\n",
        "from datetime import datetime\n",
        "t0 = datetime.now()\n",
        "python_dot_prod(a, b)\n",
        "t_python = datetime.now() - t0\n",
        "\n",
        "t0 = datetime.now()\n",
        "a.dot(b)\n",
        "t_numpy = datetime.now() - t0\n",
        "\n",
        "t_python / t_numpy"
      ],
      "execution_count": 42,
      "outputs": [
        {
          "output_type": "execute_result",
          "data": {
            "text/plain": [
              "6.119565217391305"
            ]
          },
          "metadata": {
            "tags": []
          },
          "execution_count": 42
        }
      ]
    },
    {
      "cell_type": "markdown",
      "metadata": {
        "id": "MqHAH3d5_u1q",
        "colab_type": "text"
      },
      "source": [
        "### Vectors and matrices"
      ]
    },
    {
      "cell_type": "code",
      "metadata": {
        "id": "PyLY-ZGB_yae",
        "colab_type": "code",
        "colab": {}
      },
      "source": [
        "# Matrix in numpy: array of arrays\n",
        "M = np.array([[1,2],[3,4]])"
      ],
      "execution_count": 0,
      "outputs": []
    },
    {
      "cell_type": "code",
      "metadata": {
        "id": "SppO-sl1A9Rh",
        "colab_type": "code",
        "colab": {}
      },
      "source": [
        "# Matrix in python: array of arrays\n",
        "L = [[1,2],[3,4]]"
      ],
      "execution_count": 0,
      "outputs": []
    },
    {
      "cell_type": "code",
      "metadata": {
        "id": "dRJpYPbFBD_I",
        "colab_type": "code",
        "colab": {
          "base_uri": "https://localhost:8080/",
          "height": 34
        },
        "outputId": "49970b53-d8d4-47b6-c32f-ef02ddc94e12"
      },
      "source": [
        "# Getting elements...\n",
        "L[0][0]"
      ],
      "execution_count": 45,
      "outputs": [
        {
          "output_type": "execute_result",
          "data": {
            "text/plain": [
              "1"
            ]
          },
          "metadata": {
            "tags": []
          },
          "execution_count": 45
        }
      ]
    },
    {
      "cell_type": "code",
      "metadata": {
        "id": "e4JtGMLaBK1Z",
        "colab_type": "code",
        "colab": {
          "base_uri": "https://localhost:8080/",
          "height": 34
        },
        "outputId": "40357406-8356-415e-b74a-64bec7961f4a"
      },
      "source": [
        "M[0][0]"
      ],
      "execution_count": 46,
      "outputs": [
        {
          "output_type": "execute_result",
          "data": {
            "text/plain": [
              "1"
            ]
          },
          "metadata": {
            "tags": []
          },
          "execution_count": 46
        }
      ]
    },
    {
      "cell_type": "code",
      "metadata": {
        "id": "lUw3r5Z1BOxO",
        "colab_type": "code",
        "colab": {
          "base_uri": "https://localhost:8080/",
          "height": 34
        },
        "outputId": "1d8b083c-f896-492a-d34a-ab30864c99f6"
      },
      "source": [
        "M[0,0]"
      ],
      "execution_count": 47,
      "outputs": [
        {
          "output_type": "execute_result",
          "data": {
            "text/plain": [
              "1"
            ]
          },
          "metadata": {
            "tags": []
          },
          "execution_count": 47
        }
      ]
    },
    {
      "cell_type": "code",
      "metadata": {
        "id": "Y1SJ07J1BQXi",
        "colab_type": "code",
        "colab": {}
      },
      "source": [
        "# Matrix in numpy: matrix (NOT RECOMMENDED)\n",
        "M2 = np.matrix([[1,2],[3,4]])"
      ],
      "execution_count": 0,
      "outputs": []
    },
    {
      "cell_type": "code",
      "metadata": {
        "id": "66Zb0ZFvBZk0",
        "colab_type": "code",
        "colab": {
          "base_uri": "https://localhost:8080/",
          "height": 51
        },
        "outputId": "01b37db8-8a85-45d1-f4cb-3fa78a9a2c53"
      },
      "source": [
        "# Converting to array is a a good idea\n",
        "np.array(M2)"
      ],
      "execution_count": 50,
      "outputs": [
        {
          "output_type": "execute_result",
          "data": {
            "text/plain": [
              "array([[1, 2],\n",
              "       [3, 4]])"
            ]
          },
          "metadata": {
            "tags": []
          },
          "execution_count": 50
        }
      ]
    },
    {
      "cell_type": "code",
      "metadata": {
        "id": "RalHkSmIBj9c",
        "colab_type": "code",
        "colab": {
          "base_uri": "https://localhost:8080/",
          "height": 51
        },
        "outputId": "cb2f8569-5e94-4226-831b-935ae2cd791b"
      },
      "source": [
        "# Convinient operations are available... e.g.\n",
        "M.T"
      ],
      "execution_count": 51,
      "outputs": [
        {
          "output_type": "execute_result",
          "data": {
            "text/plain": [
              "array([[1, 3],\n",
              "       [2, 4]])"
            ]
          },
          "metadata": {
            "tags": []
          },
          "execution_count": 51
        }
      ]
    },
    {
      "cell_type": "markdown",
      "metadata": {
        "id": "f6gQ3jQGB4Ui",
        "colab_type": "text"
      },
      "source": [
        "### Generating Matrices to Work With"
      ]
    },
    {
      "cell_type": "code",
      "metadata": {
        "id": "iDoDkTd2BqBI",
        "colab_type": "code",
        "colab": {
          "base_uri": "https://localhost:8080/",
          "height": 119
        },
        "outputId": "a6ce10ce-5527-4c4c-fb24-b87cba8b140b"
      },
      "source": [
        "np.zeros(100)"
      ],
      "execution_count": 54,
      "outputs": [
        {
          "output_type": "execute_result",
          "data": {
            "text/plain": [
              "array([0., 0., 0., 0., 0., 0., 0., 0., 0., 0., 0., 0., 0., 0., 0., 0., 0.,\n",
              "       0., 0., 0., 0., 0., 0., 0., 0., 0., 0., 0., 0., 0., 0., 0., 0., 0.,\n",
              "       0., 0., 0., 0., 0., 0., 0., 0., 0., 0., 0., 0., 0., 0., 0., 0., 0.,\n",
              "       0., 0., 0., 0., 0., 0., 0., 0., 0., 0., 0., 0., 0., 0., 0., 0., 0.,\n",
              "       0., 0., 0., 0., 0., 0., 0., 0., 0., 0., 0., 0., 0., 0., 0., 0., 0.,\n",
              "       0., 0., 0., 0., 0., 0., 0., 0., 0., 0., 0., 0., 0., 0., 0.])"
            ]
          },
          "metadata": {
            "tags": []
          },
          "execution_count": 54
        }
      ]
    },
    {
      "cell_type": "code",
      "metadata": {
        "id": "KFau2bGRCTRi",
        "colab_type": "code",
        "colab": {
          "base_uri": "https://localhost:8080/",
          "height": 119
        },
        "outputId": "d502ad3d-b874-4f3a-d9a8-b65b07e04c58"
      },
      "source": [
        "np.ones(100)"
      ],
      "execution_count": 55,
      "outputs": [
        {
          "output_type": "execute_result",
          "data": {
            "text/plain": [
              "array([1., 1., 1., 1., 1., 1., 1., 1., 1., 1., 1., 1., 1., 1., 1., 1., 1.,\n",
              "       1., 1., 1., 1., 1., 1., 1., 1., 1., 1., 1., 1., 1., 1., 1., 1., 1.,\n",
              "       1., 1., 1., 1., 1., 1., 1., 1., 1., 1., 1., 1., 1., 1., 1., 1., 1.,\n",
              "       1., 1., 1., 1., 1., 1., 1., 1., 1., 1., 1., 1., 1., 1., 1., 1., 1.,\n",
              "       1., 1., 1., 1., 1., 1., 1., 1., 1., 1., 1., 1., 1., 1., 1., 1., 1.,\n",
              "       1., 1., 1., 1., 1., 1., 1., 1., 1., 1., 1., 1., 1., 1., 1.])"
            ]
          },
          "metadata": {
            "tags": []
          },
          "execution_count": 55
        }
      ]
    },
    {
      "cell_type": "code",
      "metadata": {
        "id": "44Y_7wcsCXw7",
        "colab_type": "code",
        "colab": {
          "base_uri": "https://localhost:8080/",
          "height": 187
        },
        "outputId": "e91d0c30-7ccb-42b0-880e-9ad36c8f8c5d"
      },
      "source": [
        "np.zeros((10,10))"
      ],
      "execution_count": 56,
      "outputs": [
        {
          "output_type": "execute_result",
          "data": {
            "text/plain": [
              "array([[0., 0., 0., 0., 0., 0., 0., 0., 0., 0.],\n",
              "       [0., 0., 0., 0., 0., 0., 0., 0., 0., 0.],\n",
              "       [0., 0., 0., 0., 0., 0., 0., 0., 0., 0.],\n",
              "       [0., 0., 0., 0., 0., 0., 0., 0., 0., 0.],\n",
              "       [0., 0., 0., 0., 0., 0., 0., 0., 0., 0.],\n",
              "       [0., 0., 0., 0., 0., 0., 0., 0., 0., 0.],\n",
              "       [0., 0., 0., 0., 0., 0., 0., 0., 0., 0.],\n",
              "       [0., 0., 0., 0., 0., 0., 0., 0., 0., 0.],\n",
              "       [0., 0., 0., 0., 0., 0., 0., 0., 0., 0.],\n",
              "       [0., 0., 0., 0., 0., 0., 0., 0., 0., 0.]])"
            ]
          },
          "metadata": {
            "tags": []
          },
          "execution_count": 56
        }
      ]
    },
    {
      "cell_type": "code",
      "metadata": {
        "id": "C4R1Lj4rCapj",
        "colab_type": "code",
        "colab": {
          "base_uri": "https://localhost:8080/",
          "height": 187
        },
        "outputId": "017a629f-5c0e-4ea2-918e-3e4e17df0713"
      },
      "source": [
        "np.ones((10,10))"
      ],
      "execution_count": 58,
      "outputs": [
        {
          "output_type": "execute_result",
          "data": {
            "text/plain": [
              "array([[1., 1., 1., 1., 1., 1., 1., 1., 1., 1.],\n",
              "       [1., 1., 1., 1., 1., 1., 1., 1., 1., 1.],\n",
              "       [1., 1., 1., 1., 1., 1., 1., 1., 1., 1.],\n",
              "       [1., 1., 1., 1., 1., 1., 1., 1., 1., 1.],\n",
              "       [1., 1., 1., 1., 1., 1., 1., 1., 1., 1.],\n",
              "       [1., 1., 1., 1., 1., 1., 1., 1., 1., 1.],\n",
              "       [1., 1., 1., 1., 1., 1., 1., 1., 1., 1.],\n",
              "       [1., 1., 1., 1., 1., 1., 1., 1., 1., 1.],\n",
              "       [1., 1., 1., 1., 1., 1., 1., 1., 1., 1.],\n",
              "       [1., 1., 1., 1., 1., 1., 1., 1., 1., 1.]])"
            ]
          },
          "metadata": {
            "tags": []
          },
          "execution_count": 58
        }
      ]
    },
    {
      "cell_type": "code",
      "metadata": {
        "id": "qSYLeaKCCcJ7",
        "colab_type": "code",
        "colab": {
          "base_uri": "https://localhost:8080/",
          "height": 357
        },
        "outputId": "36d7e622-b067-4de0-cee2-bfd6ed44a076"
      },
      "source": [
        "np.random.random((10,10)) # uniformly distributed between 0 and 1"
      ],
      "execution_count": 60,
      "outputs": [
        {
          "output_type": "execute_result",
          "data": {
            "text/plain": [
              "array([[0.71384758, 0.35793824, 0.77589089, 0.38548151, 0.60904429,\n",
              "        0.98185979, 0.62920305, 0.25533686, 0.21158087, 0.24914371],\n",
              "       [0.61917608, 0.65746829, 0.76559555, 0.34946272, 0.64981675,\n",
              "        0.26047071, 0.25661511, 0.45766196, 0.6530947 , 0.33731078],\n",
              "       [0.10641669, 0.30458632, 0.04319532, 0.58611297, 0.42813258,\n",
              "        0.98501411, 0.03787516, 0.0921413 , 0.85883115, 0.2493294 ],\n",
              "       [0.59742218, 0.07862404, 0.84388014, 0.60951822, 0.50080192,\n",
              "        0.83708219, 0.21966345, 0.06740746, 0.97267645, 0.87822873],\n",
              "       [0.15048516, 0.86714085, 0.5541447 , 0.32985551, 0.80915102,\n",
              "        0.55239795, 0.07076099, 0.28164527, 0.09591762, 0.82449569],\n",
              "       [0.19845329, 0.48032697, 0.57076754, 0.54944662, 0.06538019,\n",
              "        0.14358067, 0.67462722, 0.5310664 , 0.98848943, 0.08233023],\n",
              "       [0.07233107, 0.90116481, 0.85152105, 0.90019505, 0.95812171,\n",
              "        0.56437869, 0.29717476, 0.48697377, 0.22884818, 0.6112242 ],\n",
              "       [0.14329885, 0.72716979, 0.08921759, 0.06227533, 0.37584354,\n",
              "        0.18977459, 0.89224748, 0.65260027, 0.86128103, 0.70761119],\n",
              "       [0.06029654, 0.11447157, 0.58577987, 0.56470897, 0.72568359,\n",
              "        0.506916  , 0.7803599 , 0.69784331, 0.63455951, 0.93488561],\n",
              "       [0.04344688, 0.38913112, 0.55377102, 0.3047957 , 0.07846608,\n",
              "        0.62227298, 0.39664273, 0.77669919, 0.59217783, 0.96436411]])"
            ]
          },
          "metadata": {
            "tags": []
          },
          "execution_count": 60
        }
      ]
    },
    {
      "cell_type": "code",
      "metadata": {
        "id": "0bXQ4NGECj2d",
        "colab_type": "code",
        "colab": {
          "base_uri": "https://localhost:8080/",
          "height": 357
        },
        "outputId": "3698e873-d7e2-4270-d073-feb7601eeaed"
      },
      "source": [
        "np.random.randn(10,10) # sample from gaussian distribution (mean 0, variance 1)"
      ],
      "execution_count": 62,
      "outputs": [
        {
          "output_type": "execute_result",
          "data": {
            "text/plain": [
              "array([[ 0.43536318, -0.64388567, -0.27980073,  0.21558954, -1.34653841,\n",
              "         1.73842365, -2.78097362,  0.4377664 ,  1.16635066, -1.28294087],\n",
              "       [ 0.45398907, -1.79555615,  0.23429136,  0.21126616,  0.48161292,\n",
              "         0.31741982, -0.95108801, -0.59385128, -0.88219701,  0.25457088],\n",
              "       [ 0.05220027, -0.91669921, -0.10190397,  0.39982811, -0.45860444,\n",
              "        -0.94774043, -0.99058204, -0.76814183,  1.42161133, -0.53978672],\n",
              "       [ 0.4575143 ,  0.98715721,  0.48029382,  0.53553326,  1.89246249,\n",
              "         0.4371431 ,  1.1229346 ,  0.14403591,  0.05963731, -1.42181332],\n",
              "       [-0.57641287,  1.09955547, -0.54041473,  0.04065291, -1.26320882,\n",
              "        -0.27842278,  0.6270146 ,  0.85215939, -0.63563496,  0.50499227],\n",
              "       [-0.00875469, -2.08052396,  0.4040799 ,  0.61090742, -0.97437337,\n",
              "         1.08645201, -0.05978435, -0.71875726, -0.56070479,  0.2524191 ],\n",
              "       [ 0.75315457, -1.57599883, -0.90961941,  0.05556349,  0.65480539,\n",
              "         0.80417304,  0.28496008, -0.94219278, -1.65622417,  0.41292997],\n",
              "       [ 0.53322974, -0.3417031 , -1.03560865, -0.7400321 ,  0.47321749,\n",
              "        -0.80866373, -1.15439954,  1.68870331, -0.08606771, -0.47420765],\n",
              "       [ 0.65659165, -1.38532641,  0.41061811, -1.97123653,  0.08938099,\n",
              "        -1.09851154,  0.17393623, -0.48924759,  1.40910498, -0.59186482],\n",
              "       [-1.96121738, -1.13437951, -1.41044659,  0.9986791 , -0.03815012,\n",
              "        -0.45093648, -2.18999007,  1.42334487,  0.91889301, -1.17031136]])"
            ]
          },
          "metadata": {
            "tags": []
          },
          "execution_count": 62
        }
      ]
    },
    {
      "cell_type": "code",
      "metadata": {
        "id": "rQeawEOHC4Cn",
        "colab_type": "code",
        "colab": {
          "base_uri": "https://localhost:8080/",
          "height": 34
        },
        "outputId": "66671ad7-ab16-4a76-81c3-9c420021ec6e"
      },
      "source": [
        "np.random.randn(10,10).mean() # close to true value"
      ],
      "execution_count": 66,
      "outputs": [
        {
          "output_type": "execute_result",
          "data": {
            "text/plain": [
              "-0.12270382431671804"
            ]
          },
          "metadata": {
            "tags": []
          },
          "execution_count": 66
        }
      ]
    },
    {
      "cell_type": "code",
      "metadata": {
        "id": "RAdtQuRaDDlI",
        "colab_type": "code",
        "colab": {
          "base_uri": "https://localhost:8080/",
          "height": 34
        },
        "outputId": "46fda98a-6b56-46ff-99d0-b369335edffd"
      },
      "source": [
        "np.random.randn(10,10).var() # close to true value"
      ],
      "execution_count": 67,
      "outputs": [
        {
          "output_type": "execute_result",
          "data": {
            "text/plain": [
              "0.9226742056664815"
            ]
          },
          "metadata": {
            "tags": []
          },
          "execution_count": 67
        }
      ]
    },
    {
      "cell_type": "markdown",
      "metadata": {
        "id": "xywZvfGRDcd0",
        "colab_type": "text"
      },
      "source": [
        "### Matrix Products"
      ]
    },
    {
      "cell_type": "code",
      "metadata": {
        "id": "_5y-5ZaYDgFM",
        "colab_type": "code",
        "colab": {}
      },
      "source": [
        ""
      ],
      "execution_count": 0,
      "outputs": []
    }
  ]
}